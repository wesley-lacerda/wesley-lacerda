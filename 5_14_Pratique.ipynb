{
  "nbformat": 4,
  "nbformat_minor": 0,
  "metadata": {
    "colab": {
      "provenance": []
    },
    "kernelspec": {
      "name": "python3",
      "display_name": "Python 3"
    },
    "language_info": {
      "name": "python"
    }
  },
  "cells": [
    {
      "cell_type": "markdown",
      "source": [
        "# 5.14 Pratique"
      ],
      "metadata": {
        "id": "dt9gb-xl4ZzI"
      }
    },
    {
      "cell_type": "markdown",
      "source": [
        "## Que tal praticar?\n",
        "\n",
        "Agora, você fará a primeira parte do seu primeiro projeto! Como disse o professor Rodrigo, não há uma forma fixa: o importante é que seu código siga uma sequência lógica e tenha, ao menos, os critérios abaixo, ok?\n",
        "\n",
        "**Passo a passo:**\n",
        "\n",
        "1. Utilize o comando 'input' para receber ao menos 2 números de entrada do usuário;\n",
        "\n",
        "2. Converta os valores recebidos pelo usuário para número inteiro (int) ou ponto flutuante (float);\n",
        "\n",
        "3. Implemente ao menos 4 operações matemáticas em seu código;\n",
        "\n",
        "4. Adicione um laço de repetição ou uma condicional. Por exemplo: você pode permitir que o usuário escolha qual operação realizar ou criar um loop que permita ao usuário realizar várias operações consecutivas;\n",
        "\n",
        "5. Utilize o comando 'print' para exibir o resultado da operação matemática."
      ],
      "metadata": {
        "id": "UXJsmjzt4lDr"
      }
    },
    {
      "cell_type": "code",
      "execution_count": 31,
      "metadata": {
        "colab": {
          "base_uri": "https://localhost:8080/"
        },
        "id": "346gwhhF4Vzt",
        "outputId": "2c832a87-adcc-4f4b-d372-e19635841559"
      },
      "outputs": [
        {
          "output_type": "stream",
          "name": "stdout",
          "text": [
            "Olá, bem-vindo a caculadora em Python!\n",
            "\n",
            "Pense em dois números para eu te ajudar a calcular.\n",
            "(Acho que já deu dempo de pensar) Vamos aos números:\n",
            "\n",
            "Digite o primeiro número: 5\n",
            "\n",
            "Digite o segundo número: 5\n",
            "\n",
            "Agora, escolha a operação que deseja realizar:\n",
            "\n",
            "1. Soma\n",
            "2. Subtração\n",
            "3. Multiplicação\n",
            "4. Divisão\n",
            "5. Sair\n",
            "\n",
            "Qual operação gostaria de fazer? 3\n",
            "\n",
            "Resultado da multiplicação: 25\n",
            "\n",
            "Você gostaria de escolher outra operação para esses números? (sim/não): nao\n",
            "\n",
            "Encerrando o programa. Até a próxima! \\o/\n"
          ]
        }
      ],
      "source": [
        "import time\n",
        "\n",
        "print(\"Olá, bem-vindo a caculadora em Python!\")\n",
        "time.sleep(7)  # Pausa por algubs segundos\n",
        "\n",
        "print(\"\\nPense em dois números para eu te ajudar a calcular.\") #Usei \\n para pular linha e facilitar a leitura\n",
        "time.sleep(10)  # Pausa por alguns segundos\n",
        "\n",
        "print(\"(Acho que já deu dempo de pensar) Vamos aos números:\")\n",
        "time.sleep(2)  # Pausa por 2 segundos\n",
        "\n",
        "while True: # Aqui eu defini para soliciar números do usuário e converter para int\n",
        "    try:\n",
        "        num1 = int(input(\"\\nDigite o primeiro número: \"))\n",
        "        time.sleep(2)  # Pausa por 2 segundos\n",
        "        num2 = int(input(\"\\nDigite o segundo número: \"))\n",
        "        break\n",
        "    except ValueError:\n",
        "        print(\"Por favor, insira números válidos.\") # Mensagem caso seja digitado algo diferente de um int\n",
        "        time.sleep(2)  # Pausa por 2 segundos\n",
        "\n",
        "while True: # Loop para realizar operações matemáticas\n",
        "    print(\"\\nAgora, escolha a operação que deseja realizar:\")\n",
        "    print(\"\\n1. Soma\")\n",
        "    print(\"2. Subtração\")\n",
        "    print(\"3. Multiplicação\")\n",
        "    print(\"4. Divisão\")\n",
        "    print(\"5. Sair\")\n",
        "\n",
        "    escolha = input(\"\\nQual operação gostaria de fazer? \")\n",
        "    time.sleep(2)  # Pausa por 2 segundos\n",
        "\n",
        "    if escolha == '1':\n",
        "        resultado = num1 + num2\n",
        "        print(f\"\\nResultado da soma: {resultado}\")\n",
        "    elif escolha == '2':\n",
        "        resultado = num1 - num2\n",
        "        print(f\"\\nResultado da subtração: {resultado}\")\n",
        "    elif escolha == '3':\n",
        "        resultado = num1 * num2\n",
        "        print(f\"\\nResultado da multiplicação: {resultado}\")\n",
        "    elif escolha == '4':\n",
        "        if num2 != 0:\n",
        "            resultado = num1 / num2\n",
        "            print(f\"\\nResultado da divisão: {resultado}\")\n",
        "        else:\n",
        "            print(\"\\nErro: Divisão por zero não é permitida.\")\n",
        "    elif escolha == '5':\n",
        "        print(\"\\nEncerrando o programa. Até a próxima! \\o/\")\n",
        "        break\n",
        "    else:\n",
        "        print(\"\\nVocê escolheu uma opção inválida. Tente novamente!\")\n",
        "        continue\n",
        "\n",
        "    # Perguntar se o usuário quer realizar outra operação\n",
        "    continuar = input(\"\\nVocê gostaria de escolher outra operação para esses números? (sim/não): \").strip().lower() # strip e lower para remover espaços extras e deixar em minúsculo os inputs\n",
        "    if continuar != 'sim':\n",
        "        print(\"\\nEncerrando o programa. Até a próxima! \\o/\")\n",
        "        break"
      ]
    }
  ]
}